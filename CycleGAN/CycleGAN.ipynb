{
 "cells": [
  {
   "cell_type": "code",
   "execution_count": null,
   "metadata": {},
   "outputs": [],
   "source": [
    "!pip install torch torchvision numpy pillow tqdm matplotlib"
   ]
  },
  {
   "cell_type": "code",
   "execution_count": 2,
   "metadata": {},
   "outputs": [],
   "source": [
    "import torch\n",
    "import torch.nn as nn\n",
    "import torch.optim as optim\n",
    "import torchvision.transforms as transforms\n",
    "from torch.utils.data import Dataset, DataLoader\n",
    "from torchvision.utils import save_image\n",
    "from PIL import Image\n",
    "import os\n",
    "\n",
    "# Generator (U-Net)\n",
    "class Generator(nn.Module):\n",
    "    def __init__(self, input_channels=3, output_channels=3):\n",
    "        super(Generator, self).__init__()\n",
    "        self.model = nn.Sequential(\n",
    "            nn.Conv2d(input_channels, 64, kernel_size=4, stride=2, padding=1),\n",
    "            nn.ReLU(),\n",
    "            nn.Conv2d(64, 128, kernel_size=4, stride=2, padding=1),\n",
    "            nn.ReLU(),\n",
    "            nn.ConvTranspose2d(128, 64, kernel_size=4, stride=2, padding=1),\n",
    "            nn.ReLU(),\n",
    "            nn.ConvTranspose2d(64, output_channels, kernel_size=4, stride=2, padding=1),\n",
    "            nn.Tanh()\n",
    "        )\n",
    "\n",
    "    def forward(self, x):\n",
    "        return self.model(x)\n",
    "\n",
    "# Discriminator (PatchGAN)\n",
    "class Discriminator(nn.Module):\n",
    "    def __init__(self, input_channels=3):\n",
    "        super(Discriminator, self).__init__()\n",
    "        self.model = nn.Sequential(\n",
    "            nn.Conv2d(input_channels, 64, kernel_size=4, stride=2, padding=1),\n",
    "            nn.LeakyReLU(0.2),\n",
    "            nn.Conv2d(64, 128, kernel_size=4, stride=2, padding=1),\n",
    "            nn.LeakyReLU(0.2),\n",
    "            nn.Conv2d(128, 1, kernel_size=4, stride=1, padding=1),\n",
    "            nn.Sigmoid()\n",
    "        )\n",
    "\n",
    "    def forward(self, x):\n",
    "        return self.model(x)"
   ]
  },
  {
   "cell_type": "code",
   "execution_count": 3,
   "metadata": {},
   "outputs": [],
   "source": [
    "class SunsetDataset(Dataset):\n",
    "    def __init__(self, sunset_path, daytime_path, transform):\n",
    "        self.sunset_images = sorted(os.listdir(sunset_path))\n",
    "        self.daytime_images = sorted(os.listdir(daytime_path))\n",
    "        self.sunset_path = sunset_path\n",
    "        self.daytime_path = daytime_path\n",
    "        self.transform = transform\n",
    "\n",
    "    def __len__(self):\n",
    "        return min(len(self.sunset_images), len(self.daytime_images))\n",
    "\n",
    "    def __getitem__(self, idx):\n",
    "        sunset_img = Image.open(os.path.join(self.sunset_path, self.sunset_images[idx])).convert(\"RGB\")\n",
    "        daytime_img = Image.open(os.path.join(self.daytime_path, self.daytime_images[idx])).convert(\"RGB\")\n",
    "\n",
    "        sunset_img = self.transform(sunset_img)\n",
    "        daytime_img = self.transform(daytime_img)\n",
    "\n",
    "        return sunset_img, daytime_img\n",
    "\n",
    "# Define Transformations\n",
    "IMG_SIZE = 256\n",
    "transform = transforms.Compose([\n",
    "    transforms.Resize((IMG_SIZE, IMG_SIZE)),\n",
    "    transforms.ToTensor(),\n",
    "    transforms.Normalize([0.5], [0.5])\n",
    "])\n",
    "\n",
    "# Load dataset\n",
    "dataset = SunsetDataset(\"sunrise\", \"daytime\", transform)\n",
    "dataloader = DataLoader(dataset, batch_size=8, shuffle=True)"
   ]
  },
  {
   "cell_type": "code",
   "execution_count": 6,
   "metadata": {},
   "outputs": [],
   "source": [
    "# Losses\n",
    "criterion_gan = nn.BCELoss()\n",
    "criterion_cycle = nn.L1Loss()\n",
    "\n",
    "# Initialize Models\n",
    "device = torch.device(\"cuda\" if torch.cuda.is_available() else \"cpu\")\n",
    "generator = Generator().to(device)\n",
    "discriminator = Discriminator().to(device)\n",
    "\n",
    "optimizer_g = optim.Adam(generator.parameters(), lr=0.0002, betas=(0.5, 0.999))\n",
    "optimizer_d = optim.Adam(discriminator.parameters(), lr=0.0002, betas=(0.5, 0.999))"
   ]
  },
  {
   "cell_type": "code",
   "execution_count": 9,
   "metadata": {},
   "outputs": [
    {
     "name": "stdout",
     "output_type": "stream",
     "text": [
      "Epoch [0/5], Step [0/115], D Loss: 0.1247502863407135, G Loss: 50.19077682495117\n",
      "Epoch [0/5], Step [100/115], D Loss: 0.22471849620342255, G Loss: 50.95927810668945\n",
      "Epoch [1/5], Step [0/115], D Loss: 0.18064631521701813, G Loss: 49.57779312133789\n",
      "Epoch [1/5], Step [100/115], D Loss: 0.2735564112663269, G Loss: 49.95952606201172\n",
      "Epoch [2/5], Step [0/115], D Loss: 0.24549731612205505, G Loss: 48.38978576660156\n",
      "Epoch [2/5], Step [100/115], D Loss: 0.29486003518104553, G Loss: 42.84647750854492\n",
      "Epoch [3/5], Step [0/115], D Loss: 0.17149807512760162, G Loss: 47.124305725097656\n",
      "Epoch [3/5], Step [100/115], D Loss: 0.4019019901752472, G Loss: 45.79384231567383\n",
      "Epoch [4/5], Step [0/115], D Loss: 0.2299571931362152, G Loss: 47.204559326171875\n",
      "Epoch [4/5], Step [100/115], D Loss: 0.12288659065961838, G Loss: 52.82942199707031\n"
     ]
    }
   ],
   "source": [
    "def train_cycleGAN(generator, discriminator, dataloader, epochs):\n",
    "    for epoch in range(epochs):\n",
    "        for i, (sunset, daytime) in enumerate(dataloader):\n",
    "            sunset, daytime = sunset.to(device), daytime.to(device)\n",
    "\n",
    "            # Train Generator\n",
    "            optimizer_g.zero_grad()\n",
    "            fake_daytime = generator(sunset)\n",
    "            d_output = discriminator(fake_daytime)\n",
    "            real_labels = torch.ones_like(d_output, device=device)\n",
    "            fake_labels = torch.zeros_like(d_output, device=device)\n",
    "            g_loss = criterion_gan(d_output, real_labels) + 100 * criterion_cycle(fake_daytime, daytime)\n",
    "            g_loss.backward()\n",
    "            optimizer_g.step()\n",
    "\n",
    "            # Train Discriminator\n",
    "            optimizer_d.zero_grad()\n",
    "            real_output = discriminator(daytime)\n",
    "            fake_output = discriminator(fake_daytime.detach())\n",
    "            d_loss = (criterion_gan(real_output, real_labels) + criterion_gan(fake_output, fake_labels)) / 2\n",
    "            d_loss.backward()\n",
    "            optimizer_d.step()\n",
    "\n",
    "            if i % 100 == 0:\n",
    "                print(f\"Epoch [{epoch}/{epochs}], Step [{i}/{len(dataloader)}], D Loss: {d_loss.item()}, G Loss: {g_loss.item()}\")\n",
    "\n",
    "    torch.save(generator.state_dict(), \"generator5.pth\")\n",
    "    torch.save(discriminator.state_dict(), \"discriminator5.pth\")\n",
    "\n",
    "# Train CycleGAN\n",
    "train_cycleGAN(generator, discriminator, dataloader, epochs=5)"
   ]
  },
  {
   "cell_type": "code",
   "execution_count": 10,
   "metadata": {},
   "outputs": [
    {
     "name": "stderr",
     "output_type": "stream",
     "text": [
      "C:\\Users\\Anvesha\\AppData\\Local\\Temp\\ipykernel_18048\\3261847956.py:9: FutureWarning: You are using `torch.load` with `weights_only=False` (the current default value), which uses the default pickle module implicitly. It is possible to construct malicious pickle data which will execute arbitrary code during unpickling (See https://github.com/pytorch/pytorch/blob/main/SECURITY.md#untrusted-models for more details). In a future release, the default value for `weights_only` will be flipped to `True`. This limits the functions that could be executed during unpickling. Arbitrary objects will no longer be allowed to be loaded via this mode unless they are explicitly allowlisted by the user via `torch.serialization.add_safe_globals`. We recommend you start setting `weights_only=True` for any use case where you don't have full control of the loaded file. Please open an issue on GitHub for any issues related to this experimental feature.\n",
      "  generator.load_state_dict(torch.load(\"generator5.pth\"))\n",
      "C:\\Users\\Anvesha\\AppData\\Local\\Temp\\ipykernel_18048\\3261847956.py:10: FutureWarning: You are using `torch.load` with `weights_only=False` (the current default value), which uses the default pickle module implicitly. It is possible to construct malicious pickle data which will execute arbitrary code during unpickling (See https://github.com/pytorch/pytorch/blob/main/SECURITY.md#untrusted-models for more details). In a future release, the default value for `weights_only` will be flipped to `True`. This limits the functions that could be executed during unpickling. Arbitrary objects will no longer be allowed to be loaded via this mode unless they are explicitly allowlisted by the user via `torch.serialization.add_safe_globals`. We recommend you start setting `weights_only=True` for any use case where you don't have full control of the loaded file. Please open an issue on GitHub for any issues related to this experimental feature.\n",
      "  discriminator.load_state_dict(torch.load(\"discriminator5.pth\"))\n"
     ]
    }
   ],
   "source": [
    "def infer(generator, image_path, transform):\n",
    "    image = Image.open(image_path).convert(\"RGB\")\n",
    "    image = transform(image).unsqueeze(0).to(device)\n",
    "    generator.eval()\n",
    "    with torch.no_grad():\n",
    "        corrected_image = generator(image).to(device)\n",
    "    save_image(corrected_image, \"corrected_image.png\")\n",
    "\n",
    "generator.load_state_dict(torch.load(\"generator5.pth\"))\n",
    "discriminator.load_state_dict(torch.load(\"discriminator5.pth\"))\n",
    "\n",
    "# Run inference\n",
    "infer(generator, \"Image2.jpg\", transform)"
   ]
  }
 ],
 "metadata": {
  "kernelspec": {
   "display_name": "myenv",
   "language": "python",
   "name": "python3"
  },
  "language_info": {
   "codemirror_mode": {
    "name": "ipython",
    "version": 3
   },
   "file_extension": ".py",
   "mimetype": "text/x-python",
   "name": "python",
   "nbconvert_exporter": "python",
   "pygments_lexer": "ipython3",
   "version": "3.10.13"
  }
 },
 "nbformat": 4,
 "nbformat_minor": 2
}
