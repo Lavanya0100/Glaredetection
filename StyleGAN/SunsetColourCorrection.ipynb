{
  "cells": [
    {
      "cell_type": "markdown",
      "metadata": {},
      "source": [
        "# Attempt - 1 StyleGAN\n",
        "\n",
        "Style-Based Generative Adversarial Network is well known for its control over image features, generating high quality images."
      ]
    },
    {
      "cell_type": "markdown",
      "metadata": {},
      "source": [
        "### Dataset -  https://www.kaggle.com/datasets/aymenkhouja/timeofdaydataset?select=sunrise\n",
        "985 sunset images"
      ]
    },
    {
      "cell_type": "code",
      "execution_count": null,
      "metadata": {
        "id": "Lo7hEX--HyG3"
      },
      "outputs": [],
      "source": [
        "!pip install torch torchvision"
      ]
    },
    {
      "cell_type": "code",
      "execution_count": null,
      "metadata": {
        "colab": {
          "base_uri": "https://localhost:8080/"
        },
        "id": "r98Hhl7zIdRr",
        "outputId": "07aea506-9716-48aa-e138-70401a79cf83"
      },
      "outputs": [
        {
          "name": "stdout",
          "output_type": "stream",
          "text": [
            "Mounted at /content/drive\n"
          ]
        }
      ],
      "source": [
        "from google.colab import drive\n",
        "drive.mount('/content/drive')"
      ]
    },
    {
      "cell_type": "code",
      "execution_count": null,
      "metadata": {
        "colab": {
          "base_uri": "https://localhost:8080/"
        },
        "id": "MQuxmjJpoTrA",
        "outputId": "251caab4-3c0a-4843-fea3-d4ba9ad09ddd"
      },
      "outputs": [
        {
          "name": "stdout",
          "output_type": "stream",
          "text": [
            "Collecting ninja\n",
            "  Downloading ninja-1.11.1.3-py3-none-manylinux_2_12_x86_64.manylinux2010_x86_64.whl.metadata (5.3 kB)\n",
            "Downloading ninja-1.11.1.3-py3-none-manylinux_2_12_x86_64.manylinux2010_x86_64.whl (422 kB)\n",
            "\u001b[?25l   \u001b[90m━━━━━━━━━━━━━━━━━━━━━━━━━━━━━━━━━━━━━━━━\u001b[0m \u001b[32m0.0/422.9 kB\u001b[0m \u001b[31m?\u001b[0m eta \u001b[36m-:--:--\u001b[0m\r\u001b[2K   \u001b[90m━━━━━━━━━━━━━━━━━━━━━━━━━━━━━━━━━━━━━━━━\u001b[0m \u001b[32m422.9/422.9 kB\u001b[0m \u001b[31m13.1 MB/s\u001b[0m eta \u001b[36m0:00:00\u001b[0m\n",
            "\u001b[?25hInstalling collected packages: ninja\n",
            "Successfully installed ninja-1.11.1.3\n",
            "Cloning into 'stylegan2-ada-pytorch'...\n",
            "remote: Enumerating objects: 131, done.\u001b[K\n",
            "remote: Counting objects: 100% (2/2), done.\u001b[K\n",
            "remote: Compressing objects: 100% (2/2), done.\u001b[K\n",
            "remote: Total 131 (delta 0), reused 0 (delta 0), pack-reused 129 (from 2)\u001b[K\n",
            "Receiving objects: 100% (131/131), 1.13 MiB | 19.62 MiB/s, done.\n",
            "Resolving deltas: 100% (57/57), done.\n"
          ]
        }
      ],
      "source": [
        "!pip install ninja\n",
        "!git clone https://github.com/NVlabs/stylegan2-ada-pytorch.git"
      ]
    },
    {
      "cell_type": "code",
      "execution_count": null,
      "metadata": {
        "id": "Xu-OHJcsMX1f"
      },
      "outputs": [],
      "source": [
        "import sys\n",
        "sys.path.append('stylegan2-ada-pytorch')\n",
        "\n",
        "import os\n",
        "import torch\n",
        "import dnnlib\n",
        "import legacy\n",
        "import logging\n",
        "import torch.nn as nn\n",
        "from torch.utils.data import Dataset, DataLoader\n",
        "from torchvision import transforms\n",
        "from PIL import Image"
      ]
    },
    {
      "cell_type": "code",
      "execution_count": null,
      "metadata": {
        "id": "vOtDT9s8npyy"
      },
      "outputs": [],
      "source": [
        "logging.basicConfig(level=logging.INFO)"
      ]
    },
    {
      "cell_type": "code",
      "execution_count": null,
      "metadata": {
        "id": "sSAWugxcjglc"
      },
      "outputs": [],
      "source": [
        "class SunsetDataset(Dataset):\n",
        "    def __init__(self, folder_path):\n",
        "        self.image_paths = [os.path.join(folder_path, f) for f in os.listdir(folder_path)\n",
        "                           if f.endswith(('.jpg', '.png', '.jpeg'))]\n",
        "        self.transform = transforms.Compose([\n",
        "            transforms.Resize((256, 256)),\n",
        "            transforms.ToTensor(),\n",
        "            transforms.Normalize((0.5, 0.5, 0.5), (0.5, 0.5, 0.5))\n",
        "        ])\n",
        "\n",
        "    def __len__(self):\n",
        "        return len(self.image_paths)\n",
        "\n",
        "    def __getitem__(self, idx):\n",
        "        image = Image.open(self.image_paths[idx]).convert('RGB')\n",
        "        return self.transform(image)"
      ]
    },
    {
      "cell_type": "code",
      "execution_count": null,
      "metadata": {
        "id": "iTo4lguqmzdJ"
      },
      "outputs": [],
      "source": [
        "def train_stylegan2(data_path, output_path):\n",
        "    device = torch.device('cuda')\n",
        "\n",
        "    # Load StyleGAN2 models\n",
        "    with dnnlib.util.open_url('https://nvlabs-fi-cdn.nvidia.com/stylegan2-ada-pytorch/pretrained/ffhq.pkl') as f:\n",
        "        G = legacy.load_network_pkl(f)['G_ema'].to(device)\n",
        "        D = legacy.load_network_pkl(f)['D'].to(device)\n",
        "\n",
        "    # Dataset\n",
        "    dataset = SunsetDataset(data_path)\n",
        "    dataloader = DataLoader(dataset, batch_size=4, shuffle=True)\n",
        "\n",
        "    # Optimizers\n",
        "    g_optimizer = torch.optim.Adam(G.parameters(), lr=0.002, betas=(0, 0.99))\n",
        "    d_optimizer = torch.optim.Adam(D.parameters(), lr=0.002, betas=(0, 0.99))\n",
        "\n",
        "    # Training\n",
        "    num_epochs = 100\n",
        "    for epoch in range(num_epochs):\n",
        "        for i, real_images in enumerate(dataloader):\n",
        "            real_images = real_images.to(device)\n",
        "            batch_size = real_images.size(0)\n",
        "\n",
        "            # Train D\n",
        "            d_optimizer.zero_grad()\n",
        "            z = torch.randn(batch_size, G.z_dim).to(device)\n",
        "            fake_images = G(z)\n",
        "            d_loss = (nn.functional.softplus(D(fake_images.detach())) +\n",
        "                     nn.functional.softplus(-D(real_images))).mean()\n",
        "            d_loss.backward()\n",
        "            d_optimizer.step()\n",
        "\n",
        "            # Train G\n",
        "            g_optimizer.zero_grad()\n",
        "            g_loss = nn.functional.softplus(-D(fake_images)).mean()\n",
        "            g_loss.backward()\n",
        "            g_optimizer.step()\n",
        "\n",
        "            if i % 10 == 0:\n",
        "                logging.info(f'Epoch [{epoch}/{num_epochs}], Step [{i}], D_loss: {d_loss.item():.4f}, G_loss: {g_loss.item():.4f}')\n",
        "\n",
        "    # Save model\n",
        "    torch.save({\n",
        "        'generator_state_dict': G.state_dict(),\n",
        "        'discriminator_state_dict': D.state_dict(),\n",
        "    }, f'{output_path}/sunset_stylegan2.pth')"
      ]
    },
    {
      "cell_type": "code",
      "execution_count": null,
      "metadata": {
        "id": "lLQ98sjmm4Mb"
      },
      "outputs": [],
      "source": [
        "def compute_generator_loss(discriminator, fake_images):\n",
        "    # Placeholder loss computation\n",
        "    return torch.mean(fake_images)"
      ]
    },
    {
      "cell_type": "code",
      "execution_count": null,
      "metadata": {
        "id": "xTA3slutm7AK"
      },
      "outputs": [],
      "source": [
        "def compute_discriminator_loss(discriminator, real_images, fake_images):\n",
        "    # Placeholder loss computation\n",
        "    return torch.mean(real_images) - torch.mean(fake_images)"
      ]
    },
    {
      "cell_type": "code",
      "execution_count": null,
      "metadata": {
        "colab": {
          "base_uri": "https://localhost:8080/",
          "height": 314
        },
        "id": "-XAuYjGrnWgS",
        "outputId": "85757fea-15a8-4258-ee30-ee11bc185196"
      },
      "outputs": [
        {
          "name": "stdout",
          "output_type": "stream",
          "text": [
            "Downloading https://nvlabs-fi-cdn.nvidia.com/stylegan2-ada-pytorch/pretrained/ffhq.pkl ... done\n"
          ]
        },
        {
          "ename": "EOFError",
          "evalue": "Ran out of input",
          "output_type": "error",
          "traceback": [
            "\u001b[0;31m---------------------------------------------------------------------------\u001b[0m",
            "\u001b[0;31mEOFError\u001b[0m                                  Traceback (most recent call last)",
            "\u001b[0;32m<ipython-input-22-92d9a578ed9a>\u001b[0m in \u001b[0;36m<cell line: 0>\u001b[0;34m()\u001b[0m\n\u001b[0;32m----> 1\u001b[0;31m \u001b[0mtrain_stylegan2\u001b[0m\u001b[0;34m(\u001b[0m\u001b[0;34m'/content/drive/MyDrive/sunrise'\u001b[0m\u001b[0;34m,\u001b[0m \u001b[0;34m'/content/drive/MyDrive/stylegan2_output'\u001b[0m\u001b[0;34m)\u001b[0m\u001b[0;34m\u001b[0m\u001b[0;34m\u001b[0m\u001b[0m\n\u001b[0m",
            "\u001b[0;32m<ipython-input-16-29bd4687c504>\u001b[0m in \u001b[0;36mtrain_stylegan2\u001b[0;34m(data_path, output_path)\u001b[0m\n\u001b[1;32m      5\u001b[0m     \u001b[0;32mwith\u001b[0m \u001b[0mdnnlib\u001b[0m\u001b[0;34m.\u001b[0m\u001b[0mutil\u001b[0m\u001b[0;34m.\u001b[0m\u001b[0mopen_url\u001b[0m\u001b[0;34m(\u001b[0m\u001b[0;34m'https://nvlabs-fi-cdn.nvidia.com/stylegan2-ada-pytorch/pretrained/ffhq.pkl'\u001b[0m\u001b[0;34m)\u001b[0m \u001b[0;32mas\u001b[0m \u001b[0mf\u001b[0m\u001b[0;34m:\u001b[0m\u001b[0;34m\u001b[0m\u001b[0;34m\u001b[0m\u001b[0m\n\u001b[1;32m      6\u001b[0m         \u001b[0mG\u001b[0m \u001b[0;34m=\u001b[0m \u001b[0mlegacy\u001b[0m\u001b[0;34m.\u001b[0m\u001b[0mload_network_pkl\u001b[0m\u001b[0;34m(\u001b[0m\u001b[0mf\u001b[0m\u001b[0;34m)\u001b[0m\u001b[0;34m[\u001b[0m\u001b[0;34m'G_ema'\u001b[0m\u001b[0;34m]\u001b[0m\u001b[0;34m.\u001b[0m\u001b[0mto\u001b[0m\u001b[0;34m(\u001b[0m\u001b[0mdevice\u001b[0m\u001b[0;34m)\u001b[0m\u001b[0;34m\u001b[0m\u001b[0;34m\u001b[0m\u001b[0m\n\u001b[0;32m----> 7\u001b[0;31m         \u001b[0mD\u001b[0m \u001b[0;34m=\u001b[0m \u001b[0mlegacy\u001b[0m\u001b[0;34m.\u001b[0m\u001b[0mload_network_pkl\u001b[0m\u001b[0;34m(\u001b[0m\u001b[0mf\u001b[0m\u001b[0;34m)\u001b[0m\u001b[0;34m[\u001b[0m\u001b[0;34m'D'\u001b[0m\u001b[0;34m]\u001b[0m\u001b[0;34m.\u001b[0m\u001b[0mto\u001b[0m\u001b[0;34m(\u001b[0m\u001b[0mdevice\u001b[0m\u001b[0;34m)\u001b[0m\u001b[0;34m\u001b[0m\u001b[0;34m\u001b[0m\u001b[0m\n\u001b[0m\u001b[1;32m      8\u001b[0m \u001b[0;34m\u001b[0m\u001b[0m\n\u001b[1;32m      9\u001b[0m     \u001b[0;31m# Dataset\u001b[0m\u001b[0;34m\u001b[0m\u001b[0;34m\u001b[0m\u001b[0m\n",
            "\u001b[0;32m/content/stylegan2-ada-pytorch/legacy.py\u001b[0m in \u001b[0;36mload_network_pkl\u001b[0;34m(f, force_fp16)\u001b[0m\n\u001b[1;32m     19\u001b[0m \u001b[0;34m\u001b[0m\u001b[0m\n\u001b[1;32m     20\u001b[0m \u001b[0;32mdef\u001b[0m \u001b[0mload_network_pkl\u001b[0m\u001b[0;34m(\u001b[0m\u001b[0mf\u001b[0m\u001b[0;34m,\u001b[0m \u001b[0mforce_fp16\u001b[0m\u001b[0;34m=\u001b[0m\u001b[0;32mFalse\u001b[0m\u001b[0;34m)\u001b[0m\u001b[0;34m:\u001b[0m\u001b[0;34m\u001b[0m\u001b[0;34m\u001b[0m\u001b[0m\n\u001b[0;32m---> 21\u001b[0;31m     \u001b[0mdata\u001b[0m \u001b[0;34m=\u001b[0m \u001b[0m_LegacyUnpickler\u001b[0m\u001b[0;34m(\u001b[0m\u001b[0mf\u001b[0m\u001b[0;34m)\u001b[0m\u001b[0;34m.\u001b[0m\u001b[0mload\u001b[0m\u001b[0;34m(\u001b[0m\u001b[0;34m)\u001b[0m\u001b[0;34m\u001b[0m\u001b[0;34m\u001b[0m\u001b[0m\n\u001b[0m\u001b[1;32m     22\u001b[0m \u001b[0;34m\u001b[0m\u001b[0m\n\u001b[1;32m     23\u001b[0m     \u001b[0;31m# Legacy TensorFlow pickle => convert.\u001b[0m\u001b[0;34m\u001b[0m\u001b[0;34m\u001b[0m\u001b[0m\n",
            "\u001b[0;31mEOFError\u001b[0m: Ran out of input"
          ]
        }
      ],
      "source": [
        "train_stylegan2('/content/drive/MyDrive/sunrise', '/content/drive/MyDrive/stylegan2_output')"
      ]
    },
    {
      "cell_type": "markdown",
      "metadata": {
        "id": "SyhQZdUiombZ"
      },
      "source": [
        "# Attempt 2"
      ]
    },
    {
      "cell_type": "code",
      "execution_count": null,
      "metadata": {
        "id": "9xo3SXoEoowu"
      },
      "outputs": [],
      "source": [
        "import torch\n",
        "import torch.nn as nn\n",
        "import torchvision.transforms as transforms\n",
        "from torch.utils.data import Dataset, DataLoader\n",
        "from PIL import Image\n",
        "import os\n",
        "import logging\n",
        "\n",
        "class Generator(nn.Module):\n",
        "    def __init__(self, z_dim=100, channels=3):\n",
        "        super().__init__()\n",
        "        self.main = nn.Sequential(\n",
        "            nn.ConvTranspose2d(z_dim, 512, 4, 1, 0, bias=False),\n",
        "            nn.BatchNorm2d(512),\n",
        "            nn.ReLU(True),\n",
        "            nn.ConvTranspose2d(512, 256, 4, 2, 1, bias=False),\n",
        "            nn.BatchNorm2d(256),\n",
        "            nn.ReLU(True),\n",
        "            nn.ConvTranspose2d(256, 128, 4, 2, 1, bias=False),\n",
        "            nn.BatchNorm2d(128),\n",
        "            nn.ReLU(True),\n",
        "            nn.ConvTranspose2d(128, 64, 4, 2, 1, bias=False),\n",
        "            nn.BatchNorm2d(64),\n",
        "            nn.ReLU(True),\n",
        "            nn.ConvTranspose2d(64, channels, 4, 2, 1, bias=False),\n",
        "            nn.Tanh()\n",
        "        )\n",
        "\n",
        "    def forward(self, x):\n",
        "        return self.main(x.view(-1, 100, 1, 1))\n",
        "\n",
        "class Discriminator(nn.Module):\n",
        "    def __init__(self, channels=3):\n",
        "        super().__init__()\n",
        "        self.main = nn.Sequential(\n",
        "            nn.Conv2d(channels, 64, 4, 2, 1, bias=False),\n",
        "            nn.LeakyReLU(0.2, inplace=True),\n",
        "            nn.Conv2d(64, 128, 4, 2, 1, bias=False),\n",
        "            nn.BatchNorm2d(128),\n",
        "            nn.LeakyReLU(0.2, inplace=True),\n",
        "            nn.Conv2d(128, 256, 4, 2, 1, bias=False),\n",
        "            nn.BatchNorm2d(256),\n",
        "            nn.LeakyReLU(0.2, inplace=True),\n",
        "            nn.Conv2d(256, 512, 4, 2, 1, bias=False),\n",
        "            nn.BatchNorm2d(512),\n",
        "            nn.LeakyReLU(0.2, inplace=True),\n",
        "            nn.Conv2d(512, 1, 4, 1, 0, bias=False),\n",
        "            nn.Sigmoid()\n",
        "        )\n",
        "\n",
        "    def forward(self, x):\n",
        "        return self.main(x).view(-1, 1).squeeze(1)\n",
        "\n",
        "class SunsetDataset(Dataset):\n",
        "    def __init__(self, folder_path):\n",
        "        self.image_paths = [os.path.join(folder_path, f) for f in os.listdir(folder_path)\n",
        "                           if f.endswith(('.jpg', '.png', '.jpeg'))]\n",
        "        self.transform = transforms.Compose([\n",
        "            transforms.Resize(64),\n",
        "            transforms.CenterCrop(64),\n",
        "            transforms.ToTensor(),\n",
        "            transforms.Normalize((0.5, 0.5, 0.5), (0.5, 0.5, 0.5))\n",
        "        ])\n",
        "\n",
        "    def __len__(self):\n",
        "        return len(self.image_paths)\n",
        "\n",
        "    def __getitem__(self, idx):\n",
        "        image = Image.open(self.image_paths[idx]).convert('RGB')\n",
        "        return self.transform(image)\n",
        "\n",
        "def train_stylegan2(data_path, output_path):\n",
        "    device = torch.device('cuda' if torch.cuda.is_available() else 'cpu')\n",
        "\n",
        "    # Models\n",
        "    netG = Generator().to(device)\n",
        "    netD = Discriminator().to(device)\n",
        "\n",
        "    # Dataset\n",
        "    dataset = SunsetDataset(data_path)\n",
        "    dataloader = DataLoader(dataset, batch_size=64, shuffle=True, num_workers=2)\n",
        "\n",
        "    # Optimizers\n",
        "    optimizerD = torch.optim.Adam(netD.parameters(), lr=0.0002, betas=(0.5, 0.999))\n",
        "    optimizerG = torch.optim.Adam(netG.parameters(), lr=0.0002, betas=(0.5, 0.999))\n",
        "    criterion = nn.BCELoss()\n",
        "\n",
        "    num_epochs = 100\n",
        "    for epoch in range(num_epochs):\n",
        "        for i, data in enumerate(dataloader):\n",
        "            # Train Discriminator\n",
        "            netD.zero_grad()\n",
        "            real = data.to(device)\n",
        "            batch_size = real.size(0)\n",
        "            label_real = torch.ones(batch_size).to(device)\n",
        "            label_fake = torch.zeros(batch_size).to(device)\n",
        "\n",
        "            output = netD(real)\n",
        "            errD_real = criterion(output, label_real)\n",
        "            D_x = output.mean().item()\n",
        "\n",
        "            noise = torch.randn(batch_size, 100, 1, 1, device=device)\n",
        "            fake = netG(noise)\n",
        "            output = netD(fake.detach())\n",
        "            errD_fake = criterion(output, label_fake)\n",
        "            D_G_z1 = output.mean().item()\n",
        "            errD = errD_real + errD_fake\n",
        "            errD.backward()\n",
        "            optimizerD.step()\n",
        "\n",
        "            # Train Generator\n",
        "            netG.zero_grad()\n",
        "            output = netD(fake)\n",
        "            errG = criterion(output, label_real)\n",
        "            errG.backward()\n",
        "            D_G_z2 = output.mean().item()\n",
        "            optimizerG.step()\n",
        "\n",
        "            if i % 100 == 0:\n",
        "                print(f'[{epoch}/{num_epochs}][{i}/{len(dataloader)}] Loss_D: {errD.item():.4f} Loss_G: {errG.item():.4f} D(x): {D_x:.4f} D(G(z)): {D_G_z1:.4f}/{D_G_z2:.4f}')\n",
        "\n",
        "    # Save models\n",
        "    os.makedirs(output_path, exist_ok=True)\n",
        "    torch.save({\n",
        "        'generator_state_dict': netG.state_dict(),\n",
        "        'discriminator_state_dict': netD.state_dict(),\n",
        "    }, f'{output_path}/sunset_model.pth')"
      ]
    },
    {
      "cell_type": "code",
      "execution_count": null,
      "metadata": {
        "colab": {
          "base_uri": "https://localhost:8080/"
        },
        "id": "FY9OZxU6ov76",
        "outputId": "4094984d-9b2f-4f21-f591-1444b5c67853"
      },
      "outputs": [
        {
          "name": "stdout",
          "output_type": "stream",
          "text": [
            "[0/100][0/16] Loss_D: 1.5151 Loss_G: 3.2554 D(x): 0.5931 D(G(z)): 0.6176/0.0404\n",
            "[1/100][0/16] Loss_D: 0.0416 Loss_G: 7.9011 D(x): 0.9719 D(G(z)): 0.0118/0.0004\n",
            "[2/100][0/16] Loss_D: 0.1628 Loss_G: 14.7730 D(x): 0.9949 D(G(z)): 0.1449/0.0000\n",
            "[3/100][0/16] Loss_D: 0.5551 Loss_G: 15.5660 D(x): 0.6759 D(G(z)): 0.0000/0.0000\n",
            "[4/100][0/16] Loss_D: 0.0247 Loss_G: 11.7460 D(x): 0.9763 D(G(z)): 0.0000/0.0000\n",
            "[5/100][0/16] Loss_D: 0.1672 Loss_G: 6.7087 D(x): 0.9735 D(G(z)): 0.1282/0.0013\n",
            "[6/100][0/16] Loss_D: 0.0797 Loss_G: 6.5881 D(x): 0.9539 D(G(z)): 0.0300/0.0015\n",
            "[7/100][0/16] Loss_D: 0.7871 Loss_G: 3.2175 D(x): 0.5496 D(G(z)): 0.0171/0.0554\n",
            "[8/100][0/16] Loss_D: 0.7243 Loss_G: 1.5356 D(x): 0.5455 D(G(z)): 0.0459/0.2275\n",
            "[9/100][0/16] Loss_D: 0.3011 Loss_G: 3.8442 D(x): 0.8207 D(G(z)): 0.0590/0.0325\n",
            "[10/100][0/16] Loss_D: 0.5921 Loss_G: 2.6261 D(x): 0.6197 D(G(z)): 0.0598/0.0874\n",
            "[11/100][0/16] Loss_D: 0.9404 Loss_G: 0.1902 D(x): 0.4798 D(G(z)): 0.0507/0.8563\n",
            "[12/100][0/16] Loss_D: 0.5904 Loss_G: 1.3094 D(x): 0.7993 D(G(z)): 0.2764/0.2860\n",
            "[13/100][0/16] Loss_D: 0.5764 Loss_G: 2.6391 D(x): 0.8419 D(G(z)): 0.3111/0.0795\n",
            "[14/100][0/16] Loss_D: 0.5102 Loss_G: 2.7448 D(x): 0.8507 D(G(z)): 0.2791/0.0740\n",
            "[15/100][0/16] Loss_D: 1.3352 Loss_G: 1.4662 D(x): 0.6368 D(G(z)): 0.5449/0.2518\n",
            "[16/100][0/16] Loss_D: 0.9047 Loss_G: 3.3808 D(x): 0.8375 D(G(z)): 0.5016/0.0480\n",
            "[17/100][0/16] Loss_D: 1.7081 Loss_G: 1.7659 D(x): 0.2563 D(G(z)): 0.0241/0.2094\n",
            "[18/100][0/16] Loss_D: 0.3607 Loss_G: 3.4984 D(x): 0.8715 D(G(z)): 0.1875/0.0362\n",
            "[19/100][0/16] Loss_D: 3.5451 Loss_G: 1.8641 D(x): 0.0469 D(G(z)): 0.0028/0.2034\n",
            "[20/100][0/16] Loss_D: 0.9317 Loss_G: 2.2016 D(x): 0.5230 D(G(z)): 0.1127/0.1446\n",
            "[21/100][0/16] Loss_D: 0.6362 Loss_G: 2.4159 D(x): 0.6620 D(G(z)): 0.1484/0.1096\n",
            "[22/100][0/16] Loss_D: 0.4626 Loss_G: 2.8280 D(x): 0.8225 D(G(z)): 0.2119/0.0753\n",
            "[23/100][0/16] Loss_D: 0.5041 Loss_G: 3.8079 D(x): 0.9291 D(G(z)): 0.3276/0.0310\n",
            "[24/100][0/16] Loss_D: 0.4770 Loss_G: 3.8348 D(x): 0.9443 D(G(z)): 0.3197/0.0291\n",
            "[25/100][0/16] Loss_D: 0.6562 Loss_G: 1.8794 D(x): 0.6754 D(G(z)): 0.1892/0.1736\n",
            "[26/100][0/16] Loss_D: 1.2852 Loss_G: 6.6510 D(x): 0.9594 D(G(z)): 0.6776/0.0025\n",
            "[27/100][0/16] Loss_D: 0.4959 Loss_G: 3.3180 D(x): 0.8172 D(G(z)): 0.2386/0.0442\n",
            "[28/100][0/16] Loss_D: 0.5001 Loss_G: 2.9552 D(x): 0.9309 D(G(z)): 0.3240/0.0694\n",
            "[29/100][0/16] Loss_D: 1.1657 Loss_G: 1.1003 D(x): 0.3811 D(G(z)): 0.0258/0.3887\n",
            "[30/100][0/16] Loss_D: 0.3110 Loss_G: 3.3925 D(x): 0.7804 D(G(z)): 0.0484/0.0490\n",
            "[31/100][0/16] Loss_D: 0.6967 Loss_G: 2.7284 D(x): 0.7597 D(G(z)): 0.3108/0.0822\n",
            "[32/100][0/16] Loss_D: 0.5955 Loss_G: 2.9722 D(x): 0.8507 D(G(z)): 0.3302/0.0620\n",
            "[33/100][0/16] Loss_D: 0.3847 Loss_G: 3.0133 D(x): 0.9324 D(G(z)): 0.2607/0.0549\n",
            "[34/100][0/16] Loss_D: 1.1791 Loss_G: 1.1251 D(x): 0.4255 D(G(z)): 0.1877/0.3504\n",
            "[35/100][0/16] Loss_D: 0.5072 Loss_G: 1.8389 D(x): 0.7207 D(G(z)): 0.1293/0.1796\n",
            "[36/100][0/16] Loss_D: 0.6742 Loss_G: 3.3672 D(x): 0.8542 D(G(z)): 0.3772/0.0432\n",
            "[37/100][0/16] Loss_D: 0.4765 Loss_G: 3.4439 D(x): 0.8397 D(G(z)): 0.2343/0.0410\n",
            "[38/100][0/16] Loss_D: 0.5126 Loss_G: 2.2646 D(x): 0.7914 D(G(z)): 0.2160/0.1199\n",
            "[39/100][0/16] Loss_D: 0.4302 Loss_G: 2.7020 D(x): 0.7786 D(G(z)): 0.1440/0.0800\n",
            "[40/100][0/16] Loss_D: 1.5932 Loss_G: 6.4869 D(x): 0.9504 D(G(z)): 0.7083/0.0023\n",
            "[41/100][0/16] Loss_D: 0.6311 Loss_G: 3.4287 D(x): 0.7979 D(G(z)): 0.2985/0.0401\n",
            "[42/100][0/16] Loss_D: 0.7064 Loss_G: 2.3273 D(x): 0.6779 D(G(z)): 0.2045/0.1316\n",
            "[43/100][0/16] Loss_D: 1.7293 Loss_G: 6.2581 D(x): 0.9615 D(G(z)): 0.7563/0.0032\n",
            "[44/100][0/16] Loss_D: 0.8313 Loss_G: 1.7345 D(x): 0.5316 D(G(z)): 0.0624/0.2105\n",
            "[45/100][0/16] Loss_D: 0.3564 Loss_G: 2.6524 D(x): 0.8772 D(G(z)): 0.1816/0.0890\n",
            "[46/100][0/16] Loss_D: 0.4909 Loss_G: 2.8125 D(x): 0.8567 D(G(z)): 0.2570/0.0810\n",
            "[47/100][0/16] Loss_D: 0.8145 Loss_G: 2.4126 D(x): 0.6740 D(G(z)): 0.2870/0.1086\n",
            "[48/100][0/16] Loss_D: 0.3837 Loss_G: 3.9605 D(x): 0.8965 D(G(z)): 0.2251/0.0269\n",
            "[49/100][0/16] Loss_D: 0.6033 Loss_G: 3.3764 D(x): 0.8113 D(G(z)): 0.2985/0.0439\n",
            "[50/100][0/16] Loss_D: 0.5659 Loss_G: 3.6777 D(x): 0.8852 D(G(z)): 0.3371/0.0316\n",
            "[51/100][0/16] Loss_D: 0.5903 Loss_G: 3.2709 D(x): 0.7620 D(G(z)): 0.2442/0.0488\n",
            "[52/100][0/16] Loss_D: 1.2581 Loss_G: 1.9370 D(x): 0.3847 D(G(z)): 0.0234/0.1931\n",
            "[53/100][0/16] Loss_D: 0.6246 Loss_G: 3.7385 D(x): 0.8494 D(G(z)): 0.3461/0.0301\n",
            "[54/100][0/16] Loss_D: 0.6108 Loss_G: 4.1621 D(x): 0.9160 D(G(z)): 0.3781/0.0198\n",
            "[55/100][0/16] Loss_D: 1.3198 Loss_G: 3.5691 D(x): 0.9130 D(G(z)): 0.6301/0.0420\n",
            "[56/100][0/16] Loss_D: 0.4960 Loss_G: 3.1754 D(x): 0.8005 D(G(z)): 0.2084/0.0562\n",
            "[57/100][0/16] Loss_D: 1.1000 Loss_G: 5.0124 D(x): 0.9642 D(G(z)): 0.6190/0.0092\n",
            "[58/100][0/16] Loss_D: 0.4814 Loss_G: 2.4049 D(x): 0.6781 D(G(z)): 0.0462/0.1070\n",
            "[59/100][0/16] Loss_D: 0.4061 Loss_G: 2.7315 D(x): 0.7434 D(G(z)): 0.0617/0.1018\n",
            "[60/100][0/16] Loss_D: 0.4178 Loss_G: 4.5952 D(x): 0.8923 D(G(z)): 0.2476/0.0143\n",
            "[61/100][0/16] Loss_D: 0.5676 Loss_G: 4.0824 D(x): 0.8723 D(G(z)): 0.3221/0.0248\n",
            "[62/100][0/16] Loss_D: 0.4780 Loss_G: 4.3425 D(x): 0.8996 D(G(z)): 0.2855/0.0167\n",
            "[63/100][0/16] Loss_D: 0.4761 Loss_G: 3.3370 D(x): 0.8558 D(G(z)): 0.2533/0.0416\n",
            "[64/100][0/16] Loss_D: 0.4181 Loss_G: 3.1056 D(x): 0.8131 D(G(z)): 0.1714/0.0586\n",
            "[65/100][0/16] Loss_D: 0.3733 Loss_G: 4.4590 D(x): 0.9007 D(G(z)): 0.2105/0.0198\n",
            "[66/100][0/16] Loss_D: 1.1474 Loss_G: 6.0354 D(x): 0.9805 D(G(z)): 0.6082/0.0045\n",
            "[67/100][0/16] Loss_D: 1.8457 Loss_G: 6.4843 D(x): 0.9841 D(G(z)): 0.7806/0.0032\n",
            "[68/100][0/16] Loss_D: 0.6029 Loss_G: 4.6469 D(x): 0.9002 D(G(z)): 0.3676/0.0122\n",
            "[69/100][0/16] Loss_D: 0.3894 Loss_G: 3.0735 D(x): 0.9186 D(G(z)): 0.2371/0.0706\n",
            "[70/100][0/16] Loss_D: 0.5091 Loss_G: 4.6355 D(x): 0.9032 D(G(z)): 0.3100/0.0134\n",
            "[71/100][0/16] Loss_D: 0.5758 Loss_G: 5.5969 D(x): 0.9027 D(G(z)): 0.3523/0.0051\n",
            "[72/100][0/16] Loss_D: 1.1234 Loss_G: 1.7229 D(x): 0.3852 D(G(z)): 0.0116/0.2272\n",
            "[73/100][0/16] Loss_D: 0.3897 Loss_G: 4.0647 D(x): 0.8789 D(G(z)): 0.2164/0.0211\n",
            "[74/100][0/16] Loss_D: 0.5100 Loss_G: 2.9408 D(x): 0.7601 D(G(z)): 0.1883/0.0685\n",
            "[75/100][0/16] Loss_D: 0.9295 Loss_G: 6.1150 D(x): 0.9693 D(G(z)): 0.5279/0.0039\n",
            "[76/100][0/16] Loss_D: 0.4714 Loss_G: 2.6203 D(x): 0.7537 D(G(z)): 0.1471/0.1018\n",
            "[77/100][0/16] Loss_D: 0.8138 Loss_G: 5.5114 D(x): 0.9195 D(G(z)): 0.4626/0.0070\n",
            "[78/100][0/16] Loss_D: 0.3589 Loss_G: 3.5200 D(x): 0.8966 D(G(z)): 0.2031/0.0413\n",
            "[79/100][0/16] Loss_D: 0.5449 Loss_G: 1.9823 D(x): 0.6431 D(G(z)): 0.0445/0.1792\n",
            "[80/100][0/16] Loss_D: 0.4685 Loss_G: 1.4397 D(x): 0.7177 D(G(z)): 0.0720/0.2987\n",
            "[81/100][0/16] Loss_D: 0.7879 Loss_G: 7.1880 D(x): 0.9607 D(G(z)): 0.4942/0.0011\n",
            "[82/100][0/16] Loss_D: 0.6163 Loss_G: 3.8278 D(x): 0.6098 D(G(z)): 0.0198/0.0378\n",
            "[83/100][0/16] Loss_D: 0.2725 Loss_G: 2.4837 D(x): 0.8162 D(G(z)): 0.0506/0.1366\n",
            "[84/100][0/16] Loss_D: 0.7853 Loss_G: 6.2602 D(x): 0.9448 D(G(z)): 0.4670/0.0035\n",
            "[85/100][0/16] Loss_D: 0.3586 Loss_G: 3.1431 D(x): 0.8475 D(G(z)): 0.1589/0.0583\n",
            "[86/100][0/16] Loss_D: 0.4465 Loss_G: 3.5215 D(x): 0.8796 D(G(z)): 0.2399/0.0417\n",
            "[87/100][0/16] Loss_D: 0.4249 Loss_G: 2.8468 D(x): 0.7486 D(G(z)): 0.0793/0.0784\n",
            "[88/100][0/16] Loss_D: 0.5815 Loss_G: 5.2850 D(x): 0.9733 D(G(z)): 0.3793/0.0107\n",
            "[89/100][0/16] Loss_D: 0.3614 Loss_G: 3.5059 D(x): 0.8446 D(G(z)): 0.1609/0.0402\n",
            "[90/100][0/16] Loss_D: 0.2732 Loss_G: 4.0590 D(x): 0.8576 D(G(z)): 0.0987/0.0315\n",
            "[91/100][0/16] Loss_D: 0.1807 Loss_G: 4.4925 D(x): 0.8718 D(G(z)): 0.0303/0.0170\n",
            "[92/100][0/16] Loss_D: 0.1740 Loss_G: 3.7787 D(x): 0.9508 D(G(z)): 0.1110/0.0321\n",
            "[93/100][0/16] Loss_D: 0.3950 Loss_G: 2.4678 D(x): 0.7682 D(G(z)): 0.1001/0.1211\n",
            "[94/100][0/16] Loss_D: 0.5134 Loss_G: 5.7856 D(x): 0.9709 D(G(z)): 0.3643/0.0045\n",
            "[95/100][0/16] Loss_D: 0.3082 Loss_G: 4.2286 D(x): 0.8104 D(G(z)): 0.0656/0.0247\n",
            "[96/100][0/16] Loss_D: 0.5010 Loss_G: 4.6414 D(x): 0.9658 D(G(z)): 0.3276/0.0168\n",
            "[97/100][0/16] Loss_D: 0.3202 Loss_G: 2.9160 D(x): 0.8043 D(G(z)): 0.0650/0.0738\n",
            "[98/100][0/16] Loss_D: 0.2703 Loss_G: 3.2554 D(x): 0.8760 D(G(z)): 0.1166/0.0583\n",
            "[99/100][0/16] Loss_D: 1.2406 Loss_G: 2.0644 D(x): 0.3945 D(G(z)): 0.0052/0.2643\n"
          ]
        }
      ],
      "source": [
        "train_stylegan2('/content/drive/MyDrive/sunrise', '/content/drive/MyDrive/stylegan2_output')"
      ]
    },
    {
      "cell_type": "markdown",
      "metadata": {
        "id": "Wm-XGOsqo_qv"
      },
      "source": [
        "# Testing"
      ]
    },
    {
      "cell_type": "code",
      "execution_count": null,
      "metadata": {
        "colab": {
          "base_uri": "https://localhost:8080/",
          "height": 435
        },
        "id": "KKrSAo99o-tH",
        "outputId": "c4e8c96b-cf83-4d3d-ff66-80671763142d"
      },
      "outputs": [
        {
          "data": {
            "image/png": "[encoded data removed]",
            "text/plain": [
              "<Figure size 1000x500 with 2 Axes>"
            ]
          },
          "metadata": {},
          "output_type": "display_data"
        }
      ],
      "source": [
        "import torch\n",
        "import torchvision.transforms as transforms\n",
        "from PIL import Image\n",
        "import matplotlib.pyplot as plt\n",
        "\n",
        "def test_model(model_path, image_path):\n",
        "    # Load model\n",
        "    checkpoint = torch.load(model_path, weights_only=True)\n",
        "    generator = Generator().to('cuda')\n",
        "    generator.load_state_dict(checkpoint['generator_state_dict'])\n",
        "    generator.eval()\n",
        "\n",
        "    # Generate random noise\n",
        "    noise = torch.randn(1, 100, 1, 1).to('cuda')\n",
        "\n",
        "    # Generate output\n",
        "    with torch.no_grad():\n",
        "        output = generator(noise)\n",
        "\n",
        "    # Convert to image and display\n",
        "    output = output.cpu().squeeze(0)\n",
        "    output = transforms.ToPILImage()(output * 0.5 + 0.5)\n",
        "\n",
        "    # Load original image for comparison\n",
        "    image = Image.open(image_path).convert('RGB')\n",
        "    image = image.resize((64, 64))\n",
        "\n",
        "    plt.figure(figsize=(10, 5))\n",
        "    plt.subplot(1, 2, 1)\n",
        "    plt.imshow(image)\n",
        "    plt.title('Original')\n",
        "    plt.subplot(1, 2, 2)\n",
        "    plt.imshow(output)\n",
        "    plt.title('Generated')\n",
        "    plt.show()\n",
        "\n",
        "# Test\n",
        "test_model('/content/drive/MyDrive/stylegan2_output/sunset_model.pth', '/content/drive/MyDrive/pexels-ahmetkurt-12362554.jpg')"
      ]
    }
  ],
  "metadata": {
    "accelerator": "GPU",
    "colab": {
      "gpuType": "T4",
      "provenance": []
    },
    "kernelspec": {
      "display_name": "Python 3",
      "name": "python3"
    },
    "language_info": {
      "name": "python"
    }
  },
  "nbformat": 4,
  "nbformat_minor": 0
}
